{
 "cells": [
  {
   "cell_type": "code",
   "execution_count": 1,
   "metadata": {
    "collapsed": false
   },
   "outputs": [
    {
     "name": "stderr",
     "output_type": "stream",
     "text": [
      "Using TensorFlow backend.\n"
     ]
    }
   ],
   "source": [
    "import numpy as np\n",
    "from keras.utils import np_utils\n",
    "from scipy.misc import imresize\n",
    "from sklearn.preprocessing import OneHotEncoder\n",
    "\n",
    "seed = 1337\n",
    "np.random.seed(seed)  # for reproducibility"
   ]
  },
  {
   "cell_type": "code",
   "execution_count": 2,
   "metadata": {
    "collapsed": false
   },
   "outputs": [],
   "source": [
    "train = np.load('train.npy')\n",
    "test = np.load('test.npy')"
   ]
  },
  {
   "cell_type": "code",
   "execution_count": 3,
   "metadata": {
    "collapsed": true
   },
   "outputs": [],
   "source": [
    "x_train, y_train = np.invert(train[:, 0]), train[:, 1].reshape(train.shape[0], 1)"
   ]
  },
  {
   "cell_type": "code",
   "execution_count": 4,
   "metadata": {
    "collapsed": false
   },
   "outputs": [],
   "source": [
    "enc = OneHotEncoder()\n",
    "Y_train = enc.fit_transform(y_train).toarray()"
   ]
  },
  {
   "cell_type": "code",
   "execution_count": 5,
   "metadata": {
    "collapsed": false
   },
   "outputs": [],
   "source": [
    "size = 64\n",
    "img_rows = size\n",
    "img_cols = size"
   ]
  },
  {
   "cell_type": "code",
   "execution_count": 6,
   "metadata": {
    "collapsed": false
   },
   "outputs": [],
   "source": [
    "for i in range(len(x_train)):\n",
    "    x_train[i] = imresize(x_train[i], (img_rows, img_cols), interp='bicubic')\n",
    "x_train = np.dstack(x_train)\n",
    "x_train = np.transpose(x_train, axes=(2, 0, 1))\n",
    "x_train = x_train.reshape(x_train.shape[0], img_rows, img_cols, 1)\n",
    "X_train = x_train.astype('float32')\n",
    "X_train -= np.mean(X_train)\n",
    "X_train /= np.std(X_train)"
   ]
  },
  {
   "cell_type": "code",
   "execution_count": 7,
   "metadata": {
    "collapsed": false
   },
   "outputs": [],
   "source": [
    "for i in range(len(test)):\n",
    "    test[i] = imresize(np.invert(test[i]), (img_rows, img_cols), interp='bicubic')\n",
    "test = np.dstack(test)\n",
    "test = np.transpose(test, axes=(2, 0, 1))\n",
    "test = test.reshape(test.shape[0], img_rows, img_cols, 1).astype(\"float32\")\n",
    "test -= np.mean(test)\n",
    "test /= np.std(test)"
   ]
  },
  {
   "cell_type": "code",
   "execution_count": 9,
   "metadata": {
    "collapsed": false,
    "scrolled": false
   },
   "outputs": [
    {
     "name": "stdout",
     "output_type": "stream",
     "text": [
      "____________________________________________________________________________________________________\n",
      "Layer (type)                     Output Shape          Param #     Connected to                     \n",
      "====================================================================================================\n",
      "dropout_7 (Dropout)              (None, 64, 64, 1)     0           dropout_input_2[0][0]            \n",
      "____________________________________________________________________________________________________\n",
      "convolution2d_6 (Convolution2D)  (None, 64, 64, 64)    1664        dropout_7[0][0]                  \n",
      "____________________________________________________________________________________________________\n",
      "prelu_8 (PReLU)                  (None, 64, 64, 64)    262144      convolution2d_6[0][0]            \n",
      "____________________________________________________________________________________________________\n",
      "batchnormalization_6 (BatchNorma (None, 64, 64, 64)    256         prelu_8[0][0]                    \n",
      "____________________________________________________________________________________________________\n",
      "convolution2d_7 (Convolution2D)  (None, 64, 64, 64)    102464      batchnormalization_6[0][0]       \n",
      "____________________________________________________________________________________________________\n",
      "prelu_9 (PReLU)                  (None, 64, 64, 64)    262144      convolution2d_7[0][0]            \n",
      "____________________________________________________________________________________________________\n",
      "batchnormalization_7 (BatchNorma (None, 64, 64, 64)    256         prelu_9[0][0]                    \n",
      "____________________________________________________________________________________________________\n",
      "maxpooling2d_4 (MaxPooling2D)    (None, 32, 32, 64)    0           batchnormalization_7[0][0]       \n",
      "____________________________________________________________________________________________________\n",
      "dropout_8 (Dropout)              (None, 32, 32, 64)    0           maxpooling2d_4[0][0]             \n",
      "____________________________________________________________________________________________________\n",
      "convolution2d_8 (Convolution2D)  (None, 32, 32, 128)   204928      dropout_8[0][0]                  \n",
      "____________________________________________________________________________________________________\n",
      "prelu_10 (PReLU)                 (None, 32, 32, 128)   131072      convolution2d_8[0][0]            \n",
      "____________________________________________________________________________________________________\n",
      "batchnormalization_8 (BatchNorma (None, 32, 32, 128)   512         prelu_10[0][0]                   \n",
      "____________________________________________________________________________________________________\n",
      "convolution2d_9 (Convolution2D)  (None, 32, 32, 128)   409728      batchnormalization_8[0][0]       \n",
      "____________________________________________________________________________________________________\n",
      "prelu_11 (PReLU)                 (None, 32, 32, 128)   131072      convolution2d_9[0][0]            \n",
      "____________________________________________________________________________________________________\n",
      "batchnormalization_9 (BatchNorma (None, 32, 32, 128)   512         prelu_11[0][0]                   \n",
      "____________________________________________________________________________________________________\n",
      "maxpooling2d_5 (MaxPooling2D)    (None, 16, 16, 128)   0           batchnormalization_9[0][0]       \n",
      "____________________________________________________________________________________________________\n",
      "dropout_9 (Dropout)              (None, 16, 16, 128)   0           maxpooling2d_5[0][0]             \n",
      "____________________________________________________________________________________________________\n",
      "convolution2d_10 (Convolution2D) (None, 16, 16, 256)   819456      dropout_9[0][0]                  \n",
      "____________________________________________________________________________________________________\n",
      "prelu_12 (PReLU)                 (None, 16, 16, 256)   65536       convolution2d_10[0][0]           \n",
      "____________________________________________________________________________________________________\n",
      "batchnormalization_10 (BatchNorm (None, 16, 16, 256)   1024        prelu_12[0][0]                   \n",
      "____________________________________________________________________________________________________\n",
      "maxpooling2d_6 (MaxPooling2D)    (None, 7, 7, 256)     0           batchnormalization_10[0][0]      \n",
      "____________________________________________________________________________________________________\n",
      "flatten_2 (Flatten)              (None, 12544)         0           maxpooling2d_6[0][0]             \n",
      "____________________________________________________________________________________________________\n",
      "dropout_10 (Dropout)             (None, 12544)         0           flatten_2[0][0]                  \n",
      "____________________________________________________________________________________________________\n",
      "dense_4 (Dense)                  (None, 2000)          25090000    dropout_10[0][0]                 \n",
      "____________________________________________________________________________________________________\n",
      "prelu_13 (PReLU)                 (None, 2000)          2000        dense_4[0][0]                    \n",
      "____________________________________________________________________________________________________\n",
      "dropout_11 (Dropout)             (None, 2000)          0           prelu_13[0][0]                   \n",
      "____________________________________________________________________________________________________\n",
      "dense_5 (Dense)                  (None, 2000)          4002000     dropout_11[0][0]                 \n",
      "____________________________________________________________________________________________________\n",
      "prelu_14 (PReLU)                 (None, 2000)          2000        dense_5[0][0]                    \n",
      "____________________________________________________________________________________________________\n",
      "dropout_12 (Dropout)             (None, 2000)          0           prelu_14[0][0]                   \n",
      "____________________________________________________________________________________________________\n",
      "dense_6 (Dense)                  (None, 500)           1000500     dropout_12[0][0]                 \n",
      "____________________________________________________________________________________________________\n",
      "activation_2 (Activation)        (None, 500)           0           dense_6[0][0]                    \n",
      "====================================================================================================\n",
      "Total params: 32,489,268\n",
      "Trainable params: 32,487,988\n",
      "Non-trainable params: 1,280\n",
      "____________________________________________________________________________________________________\n"
     ]
    }
   ],
   "source": [
    "input_shape = (img_rows, img_cols, 1)\n",
    "nb_classes = 500\n",
    "batch_size = 128\n",
    "nb_epoch = 30\n",
    "\n",
    "from keras.models import Sequential\n",
    "from keras.layers import Dense, Dropout, Activation, Flatten, BatchNormalization, PReLU\n",
    "from keras.layers import Convolution2D, MaxPooling2D\n",
    "from keras.optimizers import *\n",
    "\n",
    "model = Sequential()\n",
    "\n",
    "model.add(Dropout(0.1, input_shape=input_shape))\n",
    "\n",
    "model.add(Convolution2D(64, 5, 5, border_mode='same'))\n",
    "model.add(PReLU())\n",
    "model.add(BatchNormalization(axis=3))\n",
    "\n",
    "model.add(Convolution2D(64, 5, 5, border_mode='same'))\n",
    "model.add(PReLU())\n",
    "model.add(BatchNormalization(axis=3))\n",
    "\n",
    "model.add(MaxPooling2D(pool_size=(2, 2), strides=(2, 2)))\n",
    "model.add(Dropout(0.25))\n",
    "\n",
    "model.add(Convolution2D(128, 5, 5, border_mode='same'))\n",
    "model.add(PReLU())\n",
    "model.add(BatchNormalization(axis=3))\n",
    "\n",
    "model.add(Convolution2D(128, 5, 5, border_mode='same'))\n",
    "model.add(PReLU())\n",
    "model.add(BatchNormalization(axis=3))\n",
    "\n",
    "model.add(MaxPooling2D(pool_size=(2, 2), strides=(2, 2)))\n",
    "model.add(Dropout(0.25))\n",
    "\n",
    "model.add(Convolution2D(256, 5, 5, border_mode='same'))\n",
    "model.add(PReLU())\n",
    "model.add(BatchNormalization(axis=3))\n",
    "\n",
    "model.add(MaxPooling2D(pool_size=(3, 3), strides=(2, 2)))\n",
    "\n",
    "model.add(Flatten())\n",
    "\n",
    "model.add(Dropout(0.5))\n",
    "model.add(Dense(2000))\n",
    "model.add(PReLU())\n",
    "model.add(Dropout(0.5))\n",
    "model.add(Dense(2000))\n",
    "model.add(PReLU())\n",
    "model.add(Dropout(0.5))\n",
    "model.add(Dense(nb_classes))\n",
    "model.add(Activation('softmax'))\n",
    "\n",
    "model.summary()\n",
    "opt = Adadelta()\n",
    "model.compile(loss='categorical_crossentropy', optimizer=opt, metrics=['accuracy'])"
   ]
  },
  {
   "cell_type": "code",
   "execution_count": null,
   "metadata": {
    "collapsed": true
   },
   "outputs": [],
   "source": [
    "model.fit(X_train, Y_train, verbose=0, batch_size=batch_size, nb_epoch=nb_epoch)"
   ]
  },
  {
   "cell_type": "code",
   "execution_count": null,
   "metadata": {
    "collapsed": false,
    "scrolled": true
   },
   "outputs": [],
   "source": [
    "from keras.preprocessing.image import ImageDataGenerator\n",
    "\n",
    "datagen = ImageDataGenerator(rotation_range=10, width_shift_range=0.1, height_shift_range=0.1, zoom_range=0.1,\n",
    "                             fill_mode='constant')\n",
    "\n",
    "model.fit_generator(datagen.flow(X_train, Y_train, batch_size=batch_size), samples_per_epoch=len(X_train), verbose=0,\n",
    "                    nb_epoch=nb_epoch)"
   ]
  },
  {
   "cell_type": "code",
   "execution_count": null,
   "metadata": {
    "collapsed": false
   },
   "outputs": [],
   "source": [
    "model.fit(X_train, Y_train, verbose=0, batch_size=96, nb_epoch=10)"
   ]
  },
  {
   "cell_type": "code",
   "execution_count": null,
   "metadata": {
    "collapsed": false
   },
   "outputs": [],
   "source": [
    "model.evaluate(X_train, Y_train, verbose=0)[1]"
   ]
  },
  {
   "cell_type": "code",
   "execution_count": null,
   "metadata": {
    "collapsed": true
   },
   "outputs": [],
   "source": [
    "pred_cl = model.predict_classes(test, verbose=0)"
   ]
  },
  {
   "cell_type": "code",
   "execution_count": null,
   "metadata": {
    "collapsed": false
   },
   "outputs": [],
   "source": [
    "write_frame = [\"{0},{1}\".format(i + 1, enc.active_features_[pred_cl[i]]) for i in range(len(pred_cl))]\n",
    "write_frame = [\"Id,Category\"] + write_frame\n",
    "with open(\"predictions.csv\", \"w+\") as f:\n",
    "    f.write(\"\\n\".join(write_frame))"
   ]
  },
  {
   "cell_type": "code",
   "execution_count": null,
   "metadata": {
    "collapsed": true
   },
   "outputs": [],
   "source": [
    ""
   ]
  }
 ],
 "metadata": {
  "kernelspec": {
   "display_name": "Python 3",
   "language": "python",
   "name": "python3"
  },
  "language_info": {
   "codemirror_mode": {
    "name": "ipython",
    "version": 3.0
   },
   "file_extension": ".py",
   "mimetype": "text/x-python",
   "name": "python",
   "nbconvert_exporter": "python",
   "pygments_lexer": "ipython3",
   "version": "3.5.2+"
  }
 },
 "nbformat": 4,
 "nbformat_minor": 0
}